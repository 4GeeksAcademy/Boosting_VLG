{
 "cells": [
  {
   "cell_type": "markdown",
   "metadata": {},
   "source": [
    "# Solution Guide"
   ]
  },
  {
   "cell_type": "markdown",
   "metadata": {},
   "source": [
    "### Importing libraries needed"
   ]
  },
  {
   "cell_type": "code",
   "execution_count": null,
   "metadata": {},
   "outputs": [],
   "source": [
    "import pandas as pd\n",
    "import numpy as numpy\n",
    "import matplotlib.pyplot as plt\n",
    "import seaborn as sns\n",
    "from sklearn.model_selection import train_test_split\n",
    "from sklearn.preprocessing import StandardScaler"
   ]
  },
  {
   "cell_type": "markdown",
   "metadata": {},
   "source": [
    "### Loading the data"
   ]
  },
  {
   "cell_type": "code",
   "execution_count": null,
   "metadata": {},
   "outputs": [],
   "source": [
    "data = pd.read_csv('impressions.csv')"
   ]
  },
  {
   "cell_type": "markdown",
   "metadata": {},
   "source": [
    "### Exploring the data"
   ]
  },
  {
   "cell_type": "code",
   "execution_count": null,
   "metadata": {},
   "outputs": [],
   "source": [
    "data.shape"
   ]
  },
  {
   "cell_type": "code",
   "execution_count": null,
   "metadata": {},
   "outputs": [],
   "source": [
    "data.info()"
   ]
  },
  {
   "cell_type": "code",
   "execution_count": null,
   "metadata": {},
   "outputs": [],
   "source": [
    "data.head()"
   ]
  },
  {
   "cell_type": "code",
   "execution_count": null,
   "metadata": {},
   "outputs": [],
   "source": [
    "quan = list(data.loc[:, data.dtypes != 'object'].columns.values)\n",
    "grid = sns.FacetGrid(pd.melt(data, value_vars=quan),\n",
    "                     col='variable', col_wrap=4, height=3, aspect=1,\n",
    "                     sharex=False, sharey=False)\n",
    "grid.map(plt.hist, 'value', color=\"steelblue\")\n",
    "plt.show()"
   ]
  },
  {
   "cell_type": "code",
   "execution_count": null,
   "metadata": {},
   "outputs": [],
   "source": [
    "sns.heatmap(data._get_numeric_data().astype(float).corr(),\n",
    "            square=True, cmap='RdBu_r', linewidths=.5,\n",
    "            annot=True, fmt='.2f').figure.tight_layout()\n",
    "plt.show()"
   ]
  },
  {
   "cell_type": "code",
   "execution_count": null,
   "metadata": {},
   "outputs": [],
   "source": [
    "data.corr(method='pearson').iloc[0].sort_values(ascending=False)"
   ]
  },
  {
   "cell_type": "markdown",
   "metadata": {},
   "source": [
    "### Cleaning the data"
   ]
  },
  {
   "cell_type": "code",
   "execution_count": null,
   "metadata": {},
   "outputs": [],
   "source": [
    "def data_pipeline(data, output):\n",
    "    \"\"\"\n",
    "    Preprocessing pipeline part 1: Transform full data frame\n",
    "    Arguments: Pandas dataframe, output column (dependent variable)\n",
    "    Returns: Modified dataframe\n",
    "    \"\"\"\n",
    "    data = cost_per_metric(data, output) if 'cost_per' in output \\\n",
    "                                         else data[data[output] > 0]\n",
    "    data = drop_columns(data, output, threshold=.5)\n",
    "    data = data.dropna(axis='index')\n",
    "    data = create_other_buckets(data, threshold=.1)\n",
    "    data = one_hot_encode(data)\n",
    "    return data\n",
    "\n",
    "def split_pipeline(data, output):\n",
    "    \"\"\"\n",
    "    Preprocessing pipeline part 2: Split data into variables\n",
    "    Arguments: Pandas dataframe, output column (dependent variable)\n",
    "    Returns: List of scaled and unscaled dependent and independent variables\n",
    "    \"\"\"\n",
    "    y, X = data.iloc[:, 0], data.iloc[:, 1:]\n",
    "    X_train, X_test, y_train, y_test = train_test_split(\n",
    "        data.drop([output], axis=1), data[output], test_size=.2, random_state=1)\n",
    "    X_scaled, y_scaled, X_train_scaled, y_train_scaled, X_test_scaled, \\\n",
    "        y_scaler = scale(X, y, X_train, y_train, X_test)\n",
    "    return [X, y, X_train, y_train, X_test, y_test, X_scaled, y_scaled,\n",
    "            X_train_scaled, y_train_scaled, X_test_scaled, y_scaler]\n",
    "\n",
    "def cost_per_metric(data, output):\n",
    "    \"\"\"Create 'cost_per_...' column and remove data where output is 0 or NaN\"\"\"\n",
    "    metric = output.replace('cost_per_', '') + 's'\n",
    "    data = data[data[metric] > 0]\n",
    "    data.insert(0, output, [row['cost'] / row[metric]\n",
    "                            for index, row in data.iterrows()])\n",
    "    return data\n",
    "\n",
    "def drop_columns(data, output, threshold=0.5):\n",
    "    \"\"\"Drop columns with more than threshold missing data\"\"\"\n",
    "    rows = data[output].count()\n",
    "    for column in list(data.columns):\n",
    "        if data[column].count() < rows * threshold:\n",
    "            data = data.drop([column], axis=1)\n",
    "    return data\n",
    "\n",
    "def create_other_buckets(data, threshold=0.1):\n",
    "    \"\"\"Put rare categorical values into other bucket\"\"\"\n",
    "    categoricals = list(data.select_dtypes(include='object').columns)\n",
    "    for column in categoricals:\n",
    "        results = data[column].count()\n",
    "        groups = data.groupby([column])[column].count()\n",
    "        for bucket in groups.index:\n",
    "            if groups.loc[bucket] < results * threshold:\n",
    "                data.loc[data[column] == bucket, column] = 'other'\n",
    "    return data\n",
    "\n",
    "def one_hot_encode(data):\n",
    "    \"\"\"One-hot encode categorical data\"\"\"\n",
    "    categoricals = list(data.select_dtypes(include='object').columns)\n",
    "    for column in categoricals:\n",
    "        if 'other' in data[column].unique():\n",
    "            data = pd.get_dummies(data, columns=[column], prefix=[column],\n",
    "                                  drop_first=False)\n",
    "            data = data.drop([column + '_other'], axis=1)\n",
    "        else:\n",
    "            data = pd.get_dummies(data, columns=[column], prefix=[column],\n",
    "                                  drop_first=True)\n",
    "    return data\n",
    "\n",
    "def scale(X, y, X_train, y_train, X_test):\n",
    "    \"\"\"Scale dependent and independent variables\"\"\"\n",
    "    X_scaler, y_scaler = StandardScaler(), StandardScaler()\n",
    "\n",
    "    X_scaled = X_scaler.fit_transform(X.values.astype(float))\n",
    "    y_scaled = y_scaler.fit_transform(\n",
    "        y.values.astype(float).reshape(-1, 1)).flatten()\n",
    "\n",
    "    X_train_scaled = pd.DataFrame(data=X_scaler.transform(\n",
    "        X_train.values.astype(float)), columns=X.columns)\n",
    "    y_train_scaled = y_scaler.transform(\n",
    "        y_train.values.astype(float).reshape(-1, 1)).flatten()\n",
    "\n",
    "    X_test_scaled = pd.DataFrame(data=X_scaler.transform(\n",
    "        X_test.values.astype(float)), columns=X.columns)\n",
    "\n",
    "    return [X_scaled, y_scaled, X_train_scaled, y_train_scaled,\n",
    "            X_test_scaled, y_scaler]"
   ]
  },
  {
   "cell_type": "markdown",
   "metadata": {},
   "source": [
    "### Building your model"
   ]
  },
  {
   "cell_type": "markdown",
   "metadata": {},
   "source": [
    "You can use a baseline model first in order to compare your random forest results with.\n",
    "\n",
    "##### Random Forest"
   ]
  },
  {
   "cell_type": "code",
   "execution_count": null,
   "metadata": {},
   "outputs": [],
   "source": [
    "forest_parameters = [{'n_estimators': helpers.powerlist(10, 2, 4),\n",
    "                      'min_samples_leaf': list(range(2, 10, 1)),\n",
    "                      'criterion': ['mae', 'mse'],\n",
    "                      'random_state': [1], 'n_jobs': [-1]}]\n",
    "forest_grid = GridSearchCV(estimator=RandomForestRegressor(),\n",
    "                           param_grid=forest_parameters,\n",
    "                           scoring=mean_relative_accuracy, cv=5,\n",
    "                           n_jobs=-1, iid=False)\n",
    "forest_grid_result = forest_grid.fit(X_train, y_train)\n",
    "best_forest_parameters = forest_grid_result.best_params_\n",
    "forest_score = forest_grid_result.best_score_"
   ]
  },
  {
   "cell_type": "markdown",
   "metadata": {},
   "source": [
    "Don't forget to evaluate your results and make some predictions."
   ]
  },
  {
   "cell_type": "markdown",
   "metadata": {},
   "source": [
    "Source:\n",
    "\n",
    "https://github.com/kinosal/predictor/tree/master/model "
   ]
  }
 ],
 "metadata": {
  "kernelspec": {
   "display_name": "Python 3",
   "language": "python",
   "name": "python3"
  },
  "language_info": {
   "name": "python",
   "version": "3.8.13 (default, Oct  4 2022, 14:00:32) \n[GCC 9.4.0]"
  },
  "orig_nbformat": 4,
  "vscode": {
   "interpreter": {
    "hash": "9ac03a0a6051494cc606d484d27d20fce22fb7b4d169f583271e11d5ba46a56e"
   }
  }
 },
 "nbformat": 4,
 "nbformat_minor": 2
}
